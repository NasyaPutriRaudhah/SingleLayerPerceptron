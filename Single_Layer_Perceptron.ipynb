{
  "nbformat": 4,
  "nbformat_minor": 0,
  "metadata": {
    "colab": {
      "provenance": []
    },
    "kernelspec": {
      "name": "python3",
      "display_name": "Python 3"
    },
    "language_info": {
      "name": "python"
    }
  },
  "cells": [
    {
      "cell_type": "markdown",
      "source": [
        "# Single Layer Perceptron untuk Klasifikasi Dataset Iris\n",
        "\n",
        "## Deskripsi Tugas\n",
        "Implementasi Single Layer Perceptron (SLP) untuk klasifikasi binary pada dataset Iris dengan spesifikasi:\n",
        "- **Dataset**: Iris (hanya kelas Setosa dan Versicolor)\n",
        "- **Model**: Single Layer Perceptron\n",
        "- **Parameters**: 5 epochs, learning rate = 0.1, error function = SSE\n",
        "- **Labels**: Setosa = 0, Versicolor = 1\n",
        "\n",
        "## Tim :\n",
        "Ravie Arjun Nadhief (23/522765/PA/22491)\n",
        "Dzaky Rafiansyah (23/513862/PA/21961)\n",
        "Khairumayzal Dwiksanendra (23/513946/PA/21969)\n",
        "Zaky Alraiz Kadarisman (23/516033/PA/22047)\n",
        "Nasya Putri Raudhah (23/513931/PA/21967)"
      ],
      "metadata": {
        "id": "zOZSRy1PorCx"
      }
    },
    {
      "cell_type": "markdown",
      "source": [
        "### Import Dependencies"
      ],
      "metadata": {
        "id": "b0iANCWbMcUb"
      }
    },
    {
      "cell_type": "code",
      "execution_count": null,
      "metadata": {
        "id": "ttLtfTsj5mPa"
      },
      "outputs": [],
      "source": [
        "import numpy as np\n",
        "import pandas as pd\n",
        "import matplotlib.pyplot as plt\n",
        "from sklearn.datasets import load_iris"
      ]
    },
    {
      "cell_type": "markdown",
      "source": [
        "### Load Iris Dataset"
      ],
      "metadata": {
        "id": "zF0mPpjjMjbQ"
      }
    },
    {
      "cell_type": "code",
      "source": [
        "# Load dataset Iris\n",
        "iris = load_iris()\n",
        "X = iris.data  # Features: sepal length, sepal width, petal length, petal width\n",
        "y = iris.target\n",
        "feature_names = iris.feature_names\n",
        "target_names = iris.target_names\n",
        "\n",
        "print(\"Dataset Iris berhasil dimuat!\")\n",
        "print(f\"Shape data: {X.shape}\")\n",
        "print(f\"Shape target: {y.shape}\")\n",
        "print(f\"Nama features: {feature_names}\")\n",
        "print(f\"Nama kelas: {target_names}\")\n",
        "print(f\"Distribusi kelas original: {np.bincount(y)}\")\n",
        "\n",
        "# Filter dataset untuk hanya menggunakan Setosa (0) dan Versicolor (1)\n",
        "mask = y != 2  # Ambil semua kecuali Virginica (2)\n",
        "X_filtered = X[mask]\n",
        "y_filtered = y[mask]\n",
        "\n",
        "print(f\"\\nSetelah filtering:\")\n",
        "print(f\"Shape data: {X_filtered.shape}\")\n",
        "print(f\"Shape target: {y_filtered.shape}\")\n",
        "print(f\"Distribusi kelas: Setosa={np.sum(y_filtered==0)}, Versicolor={np.sum(y_filtered==1)}\")"
      ],
      "metadata": {
        "colab": {
          "base_uri": "https://localhost:8080/"
        },
        "id": "Y6AESmGK7Bwh",
        "outputId": "10773d16-b1f6-4d64-e574-c25ba4bdc432"
      },
      "execution_count": null,
      "outputs": [
        {
          "output_type": "stream",
          "name": "stdout",
          "text": [
            "Dataset Iris berhasil dimuat!\n",
            "Shape data: (150, 4)\n",
            "Shape target: (150,)\n",
            "Nama features: ['sepal length (cm)', 'sepal width (cm)', 'petal length (cm)', 'petal width (cm)']\n",
            "Nama kelas: ['setosa' 'versicolor' 'virginica']\n",
            "Distribusi kelas original: [50 50 50]\n",
            "\n",
            "Setelah filtering:\n",
            "Shape data: (100, 4)\n",
            "Shape target: (100,)\n",
            "Distribusi kelas: Setosa=50, Versicolor=50\n"
          ]
        }
      ]
    },
    {
      "cell_type": "code",
      "source": [
        "# Buat DataFrame dari data hasil filter\n",
        "iris_df = pd.DataFrame(X_filtered, columns=feature_names)\n",
        "iris_df[\"target\"] = y_filtered\n",
        "\n",
        "print(iris_df.head())"
      ],
      "metadata": {
        "colab": {
          "base_uri": "https://localhost:8080/"
        },
        "id": "tknRoy2nGAz2",
        "outputId": "1feef7aa-468b-4386-a1a5-ee097e3e508e"
      },
      "execution_count": null,
      "outputs": [
        {
          "output_type": "stream",
          "name": "stdout",
          "text": [
            "   sepal length (cm)  sepal width (cm)  petal length (cm)  petal width (cm)  \\\n",
            "0                5.1               3.5                1.4               0.2   \n",
            "1                4.9               3.0                1.4               0.2   \n",
            "2                4.7               3.2                1.3               0.2   \n",
            "3                4.6               3.1                1.5               0.2   \n",
            "4                5.0               3.6                1.4               0.2   \n",
            "\n",
            "   target  \n",
            "0       0  \n",
            "1       0  \n",
            "2       0  \n",
            "3       0  \n",
            "4       0  \n"
          ]
        }
      ]
    },
    {
      "cell_type": "markdown",
      "source": [
        "### Split Dataset"
      ],
      "metadata": {
        "id": "T011wJXEMnb6"
      }
    },
    {
      "cell_type": "code",
      "source": [
        "# Split manual: 40 train + 10 val per kelas\n",
        "train_df = pd.concat([iris_df[0:40], iris_df[50:90]])\n",
        "val_df = pd.concat([iris_df[40:50], iris_df[90:100]])"
      ],
      "metadata": {
        "id": "KdpPUjtPIlZm"
      },
      "execution_count": null,
      "outputs": []
    },
    {
      "cell_type": "code",
      "source": [
        "# Memisahkan fitur dan target\n",
        "X_train = train_df.drop('target', axis=1).values\n",
        "y_train = train_df['target'].values\n",
        "X_val = val_df.drop('target', axis=1).values\n",
        "y_val = val_df['target'].values\n",
        "\n",
        "print(X_train)\n",
        "print(y_train)\n",
        "print(X_val)\n",
        "print(y_val)"
      ],
      "metadata": {
        "colab": {
          "base_uri": "https://localhost:8080/"
        },
        "id": "5_zJ76lCJZIM",
        "outputId": "1ce23549-e100-4b6f-d2bc-dd2c283cb17d"
      },
      "execution_count": null,
      "outputs": [
        {
          "output_type": "stream",
          "name": "stdout",
          "text": [
            "[[5.1 3.5 1.4 0.2]\n",
            " [4.9 3.  1.4 0.2]\n",
            " [4.7 3.2 1.3 0.2]\n",
            " [4.6 3.1 1.5 0.2]\n",
            " [5.  3.6 1.4 0.2]\n",
            " [5.4 3.9 1.7 0.4]\n",
            " [4.6 3.4 1.4 0.3]\n",
            " [5.  3.4 1.5 0.2]\n",
            " [4.4 2.9 1.4 0.2]\n",
            " [4.9 3.1 1.5 0.1]\n",
            " [5.4 3.7 1.5 0.2]\n",
            " [4.8 3.4 1.6 0.2]\n",
            " [4.8 3.  1.4 0.1]\n",
            " [4.3 3.  1.1 0.1]\n",
            " [5.8 4.  1.2 0.2]\n",
            " [5.7 4.4 1.5 0.4]\n",
            " [5.4 3.9 1.3 0.4]\n",
            " [5.1 3.5 1.4 0.3]\n",
            " [5.7 3.8 1.7 0.3]\n",
            " [5.1 3.8 1.5 0.3]\n",
            " [5.4 3.4 1.7 0.2]\n",
            " [5.1 3.7 1.5 0.4]\n",
            " [4.6 3.6 1.  0.2]\n",
            " [5.1 3.3 1.7 0.5]\n",
            " [4.8 3.4 1.9 0.2]\n",
            " [5.  3.  1.6 0.2]\n",
            " [5.  3.4 1.6 0.4]\n",
            " [5.2 3.5 1.5 0.2]\n",
            " [5.2 3.4 1.4 0.2]\n",
            " [4.7 3.2 1.6 0.2]\n",
            " [4.8 3.1 1.6 0.2]\n",
            " [5.4 3.4 1.5 0.4]\n",
            " [5.2 4.1 1.5 0.1]\n",
            " [5.5 4.2 1.4 0.2]\n",
            " [4.9 3.1 1.5 0.2]\n",
            " [5.  3.2 1.2 0.2]\n",
            " [5.5 3.5 1.3 0.2]\n",
            " [4.9 3.6 1.4 0.1]\n",
            " [4.4 3.  1.3 0.2]\n",
            " [5.1 3.4 1.5 0.2]\n",
            " [7.  3.2 4.7 1.4]\n",
            " [6.4 3.2 4.5 1.5]\n",
            " [6.9 3.1 4.9 1.5]\n",
            " [5.5 2.3 4.  1.3]\n",
            " [6.5 2.8 4.6 1.5]\n",
            " [5.7 2.8 4.5 1.3]\n",
            " [6.3 3.3 4.7 1.6]\n",
            " [4.9 2.4 3.3 1. ]\n",
            " [6.6 2.9 4.6 1.3]\n",
            " [5.2 2.7 3.9 1.4]\n",
            " [5.  2.  3.5 1. ]\n",
            " [5.9 3.  4.2 1.5]\n",
            " [6.  2.2 4.  1. ]\n",
            " [6.1 2.9 4.7 1.4]\n",
            " [5.6 2.9 3.6 1.3]\n",
            " [6.7 3.1 4.4 1.4]\n",
            " [5.6 3.  4.5 1.5]\n",
            " [5.8 2.7 4.1 1. ]\n",
            " [6.2 2.2 4.5 1.5]\n",
            " [5.6 2.5 3.9 1.1]\n",
            " [5.9 3.2 4.8 1.8]\n",
            " [6.1 2.8 4.  1.3]\n",
            " [6.3 2.5 4.9 1.5]\n",
            " [6.1 2.8 4.7 1.2]\n",
            " [6.4 2.9 4.3 1.3]\n",
            " [6.6 3.  4.4 1.4]\n",
            " [6.8 2.8 4.8 1.4]\n",
            " [6.7 3.  5.  1.7]\n",
            " [6.  2.9 4.5 1.5]\n",
            " [5.7 2.6 3.5 1. ]\n",
            " [5.5 2.4 3.8 1.1]\n",
            " [5.5 2.4 3.7 1. ]\n",
            " [5.8 2.7 3.9 1.2]\n",
            " [6.  2.7 5.1 1.6]\n",
            " [5.4 3.  4.5 1.5]\n",
            " [6.  3.4 4.5 1.6]\n",
            " [6.7 3.1 4.7 1.5]\n",
            " [6.3 2.3 4.4 1.3]\n",
            " [5.6 3.  4.1 1.3]\n",
            " [5.5 2.5 4.  1.3]]\n",
            "[0 0 0 0 0 0 0 0 0 0 0 0 0 0 0 0 0 0 0 0 0 0 0 0 0 0 0 0 0 0 0 0 0 0 0 0 0\n",
            " 0 0 0 1 1 1 1 1 1 1 1 1 1 1 1 1 1 1 1 1 1 1 1 1 1 1 1 1 1 1 1 1 1 1 1 1 1\n",
            " 1 1 1 1 1 1]\n",
            "[[5.  3.5 1.3 0.3]\n",
            " [4.5 2.3 1.3 0.3]\n",
            " [4.4 3.2 1.3 0.2]\n",
            " [5.  3.5 1.6 0.6]\n",
            " [5.1 3.8 1.9 0.4]\n",
            " [4.8 3.  1.4 0.3]\n",
            " [5.1 3.8 1.6 0.2]\n",
            " [4.6 3.2 1.4 0.2]\n",
            " [5.3 3.7 1.5 0.2]\n",
            " [5.  3.3 1.4 0.2]\n",
            " [5.5 2.6 4.4 1.2]\n",
            " [6.1 3.  4.6 1.4]\n",
            " [5.8 2.6 4.  1.2]\n",
            " [5.  2.3 3.3 1. ]\n",
            " [5.6 2.7 4.2 1.3]\n",
            " [5.7 3.  4.2 1.2]\n",
            " [5.7 2.9 4.2 1.3]\n",
            " [6.2 2.9 4.3 1.3]\n",
            " [5.1 2.5 3.  1.1]\n",
            " [5.7 2.8 4.1 1.3]]\n",
            "[0 0 0 0 0 0 0 0 0 0 1 1 1 1 1 1 1 1 1 1]\n"
          ]
        }
      ]
    },
    {
      "cell_type": "markdown",
      "source": [
        "### Inisialisasi Fungsi"
      ],
      "metadata": {
        "id": "kZuZwjo8MujO"
      }
    },
    {
      "cell_type": "code",
      "source": [
        "def inisialisasi_bobot(n_features):\n",
        "    bobot = np.full(n_features, 0.5)  # semua bobot awal = 0.5\n",
        "    bias = 0.5\n",
        "    return bobot, bias\n",
        "\n",
        "def aktivasi(z):\n",
        "    return 1 / (1 + np.exp(-z))  # sigmoid\n",
        "\n",
        "def dot_product(X, bobot, bias):\n",
        "    return np.dot(X, bobot) + bias\n",
        "\n",
        "def prediksi(inputs, bobot, bias):\n",
        "    pred_value = aktivasi(dot_product(inputs, bobot, bias))\n",
        "    class_pred = 1 if pred_value >= 0.5 else 0\n",
        "    return class_pred, pred_value\n",
        "\n",
        "def evaluate(X, y, bobot, bias):\n",
        "    total_loss, correct = 0, 0\n",
        "    for inputs, target in zip(X, y):\n",
        "        class_pred, pred_value = prediksi(inputs, bobot, bias)\n",
        "        error = pred_value - target\n",
        "        total_loss += error**2\n",
        "        correct += (class_pred == target)\n",
        "    loss = total_loss / len(X)\n",
        "    acc = correct / len(X)\n",
        "    return loss, acc\n",
        "\n",
        "def train(X_train, y_train, X_val, y_val, lr=0.1, epochs=200):\n",
        "    bobot, bias = inisialisasi_bobot(X_train.shape[1])\n",
        "    history = []\n",
        "\n",
        "    for epoch in range(1, epochs + 1):\n",
        "        total_train_loss, correct_train = 0, 0\n",
        "\n",
        "        for inputs, target in zip(X_train, y_train):\n",
        "            class_pred, pred_value = prediksi(inputs, bobot, bias)\n",
        "            error = pred_value - target\n",
        "\n",
        "            # update bobot dan bias\n",
        "            grad = 2 * error * pred_value * (1 - pred_value)\n",
        "            bobot -= lr * grad * inputs\n",
        "            bias -= lr * grad\n",
        "\n",
        "            total_train_loss += error**2\n",
        "            correct_train += (class_pred == target)\n",
        "\n",
        "        train_loss = total_train_loss / len(X_train)\n",
        "        train_acc = correct_train / len(X_train)\n",
        "\n",
        "        # validasi\n",
        "        val_loss, val_acc = evaluate(X_val, y_val, bobot, bias)\n",
        "\n",
        "        history.append({\n",
        "            'epoch': epoch,\n",
        "            'train_loss': train_loss,\n",
        "            'train_acc': train_acc,\n",
        "            'val_loss': val_loss,\n",
        "            'val_acc': val_acc\n",
        "        })\n",
        "\n",
        "    return bobot, bias, pd.DataFrame(history)\n"
      ],
      "metadata": {
        "id": "syjJAfa-JrFy"
      },
      "execution_count": null,
      "outputs": []
    },
    {
      "cell_type": "markdown",
      "source": [
        "### Training and Validation\n"
      ],
      "metadata": {
        "id": "ZZttT7spM0fL"
      }
    },
    {
      "cell_type": "code",
      "source": [
        "bobot, bias, history = train(X_train, y_train, X_val, y_val, lr=0.1, epochs=5)\n",
        "\n",
        "print(history.head())"
      ],
      "metadata": {
        "colab": {
          "base_uri": "https://localhost:8080/"
        },
        "id": "8OXRzUJeLvPb",
        "outputId": "bb868a87-a0a2-4915-b378-ed44d74a8fcc"
      },
      "execution_count": null,
      "outputs": [
        {
          "output_type": "stream",
          "name": "stdout",
          "text": [
            "   epoch  train_loss  train_acc  val_loss  val_acc\n",
            "0      1    0.450046     0.5250  0.328014     0.50\n",
            "1      2    0.037215     0.9500  0.246373     0.50\n",
            "2      3    0.024224     0.9750  0.175153     0.50\n",
            "3      4    0.017254     0.9750  0.118946     0.85\n",
            "4      5    0.012664     0.9875  0.081341     1.00\n"
          ]
        }
      ]
    },
    {
      "cell_type": "markdown",
      "source": [
        "### Visualisasi Grafik Loss dan Accuracy"
      ],
      "metadata": {
        "id": "9aUsU2-rM_FV"
      }
    },
    {
      "cell_type": "code",
      "source": [
        "def plot_history(history):\n",
        "    fig, ax = plt.subplots(1, 2, figsize=(12, 5))\n",
        "\n",
        "    # Grafik Loss\n",
        "    ax[0].plot(history['epoch'], history['train_loss'], label='Train Loss')\n",
        "    ax[0].plot(history['epoch'], history['val_loss'], label='Validation Loss')\n",
        "    ax[0].set_xlabel(\"Epoch\")\n",
        "    ax[0].set_ylabel(\"Loss (MSE)\")\n",
        "    ax[0].set_title(\"Training vs Validation Loss\")\n",
        "    ax[0].legend()\n",
        "    ax[0].set_xticks(history['epoch'])\n",
        "\n",
        "    # Grafik Akurasi\n",
        "    ax[1].plot(history['epoch'], history['train_acc'], label='Train Accuracy')\n",
        "    ax[1].plot(history['epoch'], history['val_acc'], label='Validation Accuracy')\n",
        "    ax[1].set_xlabel(\"Epoch\")\n",
        "    ax[1].set_ylabel(\"Accuracy\")\n",
        "    ax[1].set_title(\"Training vs Validation Accuracy\")\n",
        "    ax[1].legend()\n",
        "    ax[1].set_xticks(history['epoch'])\n",
        "\n",
        "    plt.show()\n",
        "\n",
        "\n"
      ],
      "metadata": {
        "id": "n2Z5ltPUL_NR"
      },
      "execution_count": null,
      "outputs": []
    },
    {
      "cell_type": "code",
      "source": [
        "bobot, bias, history = train(X_train, y_train, X_val, y_val, lr=0.1, epochs=5)\n",
        "\n",
        "plot_history(history)"
      ],
      "metadata": {
        "colab": {
          "base_uri": "https://localhost:8080/",
          "height": 487
        },
        "id": "kRItfN6-MBPa",
        "outputId": "db8b431f-1aa9-42f6-ae18-1f1a39f6e223"
      },
      "execution_count": null,
      "outputs": [
        {
          "output_type": "display_data",
          "data": {
            "text/plain": [
              "<Figure size 1200x500 with 2 Axes>"
            ],
            "image/png": "[encoded data removed]"
          },
          "metadata": {}
        }
      ]
    }
  ]
}